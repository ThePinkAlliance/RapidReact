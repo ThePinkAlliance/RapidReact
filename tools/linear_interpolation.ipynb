{
 "cells": [
  {
   "cell_type": "markdown",
   "metadata": {},
   "source": [
    "Before we get started lets install the required programs first!\n",
    "\n",
    "- Python 3.9.6\n",
    "- Pip 21.1.3 (Included with Python 3.9.6)\n",
    "\n",
    "Then after those are installed we need to run this command to install all the libraries necessary for our juypter notebooks.\n",
    "```bash\n",
    "pip install -r requirements.txt\n",
    "```\n"
   ]
  },
  {
   "cell_type": "code",
   "execution_count": 13,
   "metadata": {},
   "outputs": [],
   "source": [
    "import matplotlib.pyplot as plt\n",
    "import numpy as np"
   ]
  },
  {
   "cell_type": "markdown",
   "metadata": {},
   "source": [
    "The `x` and `y` arrays makeup a linear interpolation table "
   ]
  },
  {
   "cell_type": "code",
   "execution_count": 11,
   "metadata": {},
   "outputs": [],
   "source": [
    "x = [\n",
    "  -24,\n",
    "  -20,\n",
    "  -17,\n",
    "  -15,\n",
    "  -12,\n",
    "  -10,\n",
    "  -5,\n",
    "  0,\n",
    "  5,\n",
    "  10,\n",
    "  15,\n",
    "  20\n",
    "]\n",
    "\n",
    "y = [\n",
    "  290,\n",
    "  238,\n",
    "  207,\n",
    "  186,\n",
    "  169,\n",
    "  154,\n",
    "  134,\n",
    "  116,\n",
    "  104,\n",
    "  92,\n",
    "  83,\n",
    "  75\n",
    "]"
   ]
  },
  {
   "cell_type": "markdown",
   "metadata": {},
   "source": [
    "When you select the run all button it will run all the cells containing code and after they all run\n",
    "it will display scatter plot to allow for easy analysis of the linear table to determine if its linear enough."
   ]
  },
  {
   "cell_type": "code",
   "execution_count": 12,
   "metadata": {},
   "outputs": [
    {
     "data": {
      "image/png": "[encoded data removed]",
      "text/plain": [
       "<Figure size 432x288 with 1 Axes>"
      ]
     },
     "metadata": {
      "needs_background": "light"
     },
     "output_type": "display_data"
    }
   ],
   "source": [
    "fig, ax = plt.subplots()\n",
    "ax.scatter(x, y)\n",
    "\n",
    "plt.show()"
   ]
  }
 ],
 "metadata": {
  "kernelspec": {
   "display_name": "Python 3.9.6 64-bit",
   "language": "python",
   "name": "python3"
  },
  "language_info": {
   "codemirror_mode": {
    "name": "ipython",
    "version": 3
   },
   "file_extension": ".py",
   "mimetype": "text/x-python",
   "name": "python",
   "nbconvert_exporter": "python",
   "pygments_lexer": "ipython3",
   "version": "3.9.6"
  },
  "orig_nbformat": 4,
  "vscode": {
   "interpreter": {
    "hash": "266715ccc4630b7d909424434041f2992f9605be2340c3f4e83678cbea216170"
   }
  }
 },
 "nbformat": 4,
 "nbformat_minor": 2
}
